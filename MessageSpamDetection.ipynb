{
  "cells": [
    {
      "cell_type": "code",
      "execution_count": 113,
      "metadata": {
        "id": "oJ4ITRHu8y9z"
      },
      "outputs": [],
      "source": [
        "# Required Libraries for Data Handling\n",
        "import numpy as np\n",
        "import pandas as pd"
      ]
    },
    {
      "cell_type": "code",
      "execution_count": 114,
      "metadata": {
        "id": "W_PmJVRn86g7"
      },
      "outputs": [],
      "source": [
        "# Required Libraries for Data Visualization\n",
        "import matplotlib.pyplot as plt\n",
        "import seaborn as sns"
      ]
    },
    {
      "cell_type": "code",
      "execution_count": 115,
      "metadata": {
        "id": "O71nSSj69DCR"
      },
      "outputs": [],
      "source": [
        "# Required Libraries for Data Preprocessing\n",
        "from sklearn.model_selection import train_test_split\n",
        "from sklearn.preprocessing import LabelEncoder\n",
        "from keras.preprocessing.text import Tokenizer\n",
        "from tensorflow.keras.preprocessing.sequence import pad_sequences"
      ]
    },
    {
      "cell_type": "code",
      "execution_count": 116,
      "metadata": {
        "id": "s-H-qoZ29HiL"
      },
      "outputs": [],
      "source": [
        "# Required Libraries for Model Building\n",
        "from keras.models import Sequential\n",
        "from keras.layers import Embedding, LSTM, Dense, Dropout\n",
        "from keras.optimizers import Adam"
      ]
    },
    {
      "cell_type": "code",
      "execution_count": 117,
      "metadata": {
        "id": "CcUXkafL9JKN"
      },
      "outputs": [],
      "source": [
        "# Load and preprocess the dataset\n",
        "data = pd.read_csv('spam.csv', encoding='ISO-8859-1')\n",
        "X = data['text'].values\n",
        "y = data['class'].values"
      ]
    },
    {
      "cell_type": "code",
      "execution_count": 118,
      "metadata": {
        "id": "_mxDFKNi9K3g"
      },
      "outputs": [],
      "source": [
        "# Encode the class labels into numerical values\n",
        "label_encoder = LabelEncoder()\n",
        "y = label_encoder.fit_transform(y)"
      ]
    },
    {
      "cell_type": "code",
      "execution_count": null,
      "metadata": {
        "id": "vx8naif_9g9A"
      },
      "outputs": [],
      "source": [
        "# Visualize class distribution\n",
        "plt.figure(figsize=(8, 6))\n",
        "sns.countplot(x=label_encoder.inverse_transform(y))\n",
        "plt.title('Class Distribution')\n",
        "plt.xlabel('Class')\n",
        "plt.ylabel('Count')\n",
        "plt.show()"
      ]
    },
    {
      "cell_type": "code",
      "execution_count": 120,
      "metadata": {
        "id": "XUAPtAL_9Nzm"
      },
      "outputs": [],
      "source": [
        "# Split the dataset into training and testing sets\n",
        "X_train, X_test, y_train, y_test = train_test_split(X, y, test_size=0.2, random_state=42)"
      ]
    },
    {
      "cell_type": "code",
      "execution_count": 121,
      "metadata": {
        "id": "4J2HENCX9PLn"
      },
      "outputs": [],
      "source": [
        "# Tokenization and Vocabulary Creation\n",
        "max_words = 10000\n",
        "tokenizer = Tokenizer(num_words=max_words)\n",
        "tokenizer.fit_on_texts(X_train)"
      ]
    },
    {
      "cell_type": "code",
      "execution_count": 122,
      "metadata": {
        "id": "d0tkBHjO9Qe7"
      },
      "outputs": [],
      "source": [
        "# Convert text data into sequences of integers\n",
        "X_train_seq = tokenizer.texts_to_sequences(X_train)\n",
        "X_test_seq = tokenizer.texts_to_sequences(X_test)"
      ]
    },
    {
      "cell_type": "code",
      "execution_count": 123,
      "metadata": {
        "id": "le55Op4w9SUR"
      },
      "outputs": [],
      "source": [
        "# Padding Sequences to a Uniform Length\n",
        "max_sequence_length = 200\n",
        "X_train_pad = pad_sequences(X_train_seq, maxlen=max_sequence_length)\n",
        "X_test_pad = pad_sequences(X_test_seq, maxlen=max_sequence_length)"
      ]
    },
    {
      "cell_type": "code",
      "execution_count": 124,
      "metadata": {
        "id": "-DIO3SJi9UQL"
      },
      "outputs": [],
      "source": [
        "# Build the LSTM model\n",
        "embedding_size = 100\n",
        "model = Sequential()\n",
        "model.add(Embedding(input_dim=max_words, output_dim=embedding_size, input_length=max_sequence_length))\n",
        "model.add(LSTM(units=128, dropout=0.2, recurrent_dropout=0.2))\n",
        "model.add(Dense(units=1, activation='sigmoid'))"
      ]
    },
    {
      "cell_type": "code",
      "execution_count": 125,
      "metadata": {
        "id": "-VGa-dQp9V8D"
      },
      "outputs": [],
      "source": [
        "# Compile the model\n",
        "model.compile(loss='binary_crossentropy', optimizer=Adam(learning_rate=0.001), metrics=['accuracy'])"
      ]
    },
    {
      "cell_type": "code",
      "execution_count": 126,
      "metadata": {
        "colab": {
          "base_uri": "https://localhost:8080/"
        },
        "id": "wfKu4wwi9Yfr",
        "outputId": "6ba39fc7-ee7c-4f57-c9d5-19d06fb5367b"
      },
      "outputs": [
        {
          "name": "stdout",
          "output_type": "stream",
          "text": [
            "Epoch 1/5\n",
            "63/63 [==============================] - 69s 1s/step - loss: 0.2400 - accuracy: 0.9230 - val_loss: 0.1062 - val_accuracy: 0.9641\n",
            "Epoch 2/5\n",
            "63/63 [==============================] - 54s 863ms/step - loss: 0.0382 - accuracy: 0.9890 - val_loss: 0.0713 - val_accuracy: 0.9753\n",
            "Epoch 3/5\n",
            "63/63 [==============================] - 54s 865ms/step - loss: 0.0155 - accuracy: 0.9963 - val_loss: 0.0789 - val_accuracy: 0.9776\n",
            "Epoch 4/5\n",
            "63/63 [==============================] - 68s 1s/step - loss: 0.0046 - accuracy: 0.9990 - val_loss: 0.0923 - val_accuracy: 0.9798\n",
            "Epoch 5/5\n",
            "63/63 [==============================] - 55s 881ms/step - loss: 0.0019 - accuracy: 0.9995 - val_loss: 0.1126 - val_accuracy: 0.9753\n"
          ]
        }
      ],
      "source": [
        "# Train the model\n",
        "epochs = 5\n",
        "batch_size = 64\n",
        "model_history = model.fit(X_train_pad, y_train, epochs=epochs, batch_size=batch_size, validation_split=0.1)"
      ]
    },
    {
      "cell_type": "code",
      "execution_count": 131,
      "metadata": {
        "colab": {
          "base_uri": "https://localhost:8080/"
        },
        "id": "AoOvXzOE9Z_6",
        "outputId": "6d609a73-91ee-4986-eb86-cf7d88e3bce0"
      },
      "outputs": [
        {
          "name": "stdout",
          "output_type": "stream",
          "text": [
            "35/35 [==============================] - 4s 102ms/step - loss: 0.0867 - accuracy: 0.9794\n",
            "Test Loss: 0.08668457716703415\n",
            "Test Accuracy: 0.9793722033500671\n"
          ]
        }
      ],
      "source": [
        "# Evaluate the model on the test set\n",
        "loss, accuracy = model.evaluate(X_test_pad, y_test)\n",
        "print(\"Test Loss:\", loss)\n",
        "print(\"Test Accuracy:\", accuracy)"
      ]
    },
    {
      "cell_type": "code",
      "execution_count": 132,
      "metadata": {
        "colab": {
          "base_uri": "https://localhost:8080/",
          "height": 52
        },
        "id": "-VRKKk8J9jnl",
        "outputId": "10803331-1749-4287-9b68-5fff6afa7d5a"
      },
      "outputs": [
        {
          "data": {
            "text/plain": [
              "<Figure size 1200x600 with 0 Axes>"
            ]
          },
          "execution_count": 132,
          "metadata": {},
          "output_type": "execute_result"
        },
        {
          "data": {
            "text/plain": [
              "<Figure size 1200x600 with 0 Axes>"
            ]
          },
          "metadata": {},
          "output_type": "display_data"
        }
      ],
      "source": [
        "# Visualize model training history\n",
        "plt.figure(figsize=(12, 6))"
      ]
    },
    {
      "cell_type": "code",
      "execution_count": 133,
      "metadata": {
        "colab": {
          "base_uri": "https://localhost:8080/",
          "height": 487
        },
        "id": "JfymiZQb9k8g",
        "outputId": "a9730231-425e-4bcb-8711-c717d6b0233e"
      },
      "outputs": [
        {
          "data": {
            "image/png": "[encoded data removed]",
            "text/plain": [
              "<Figure size 640x480 with 1 Axes>"
            ]
          },
          "metadata": {},
          "output_type": "display_data"
        }
      ],
      "source": [
        "# Plot training & validation accuracy values\n",
        "plt.subplot(1, 2, 1)\n",
        "plt.plot(model_history.history['accuracy'])\n",
        "plt.plot(model_history.history['val_accuracy'])\n",
        "plt.title('Model Accuracy')\n",
        "plt.xlabel('Epoch')\n",
        "plt.ylabel('Accuracy')\n",
        "plt.legend(['Train', 'Validation'], loc='upper left')\n",
        "plt.tight_layout()\n",
        "plt.show()"
      ]
    },
    {
      "cell_type": "code",
      "execution_count": 134,
      "metadata": {
        "colab": {
          "base_uri": "https://localhost:8080/",
          "height": 487
        },
        "id": "I8ghHC7M9msp",
        "outputId": "e5f1d41e-99c4-43bf-a3fa-60b8f16b2514"
      },
      "outputs": [
        {
          "data": {
            "image/png": "[encoded data removed]",
            "text/plain": [
              "<Figure size 640x480 with 1 Axes>"
            ]
          },
          "metadata": {},
          "output_type": "display_data"
        }
      ],
      "source": [
        "# Plot training & validation loss values\n",
        "plt.subplot(1, 2, 2)\n",
        "plt.plot(model_history.history['loss'])\n",
        "plt.plot(model_history.history['val_loss'])\n",
        "plt.title('Model Loss')\n",
        "plt.xlabel('Epoch')\n",
        "plt.ylabel('Loss')\n",
        "plt.legend(['Train', 'Validation'], loc='upper left')\n",
        "plt.tight_layout()\n",
        "plt.show()"
      ]
    }
  ],
  "metadata": {
    "colab": {
      "provenance": []
    },
    "kernelspec": {
      "display_name": "Python 3.8.0 64-bit",
      "language": "python",
      "name": "python3"
    },
    "language_info": {
      "name": "python",
      "version": "3.8.0"
    },
    "vscode": {
      "interpreter": {
        "hash": "aee8b7b246df8f9039afb4144a1f6fd8d2ca17a180786b69acc140d282b71a49"
      }
    }
  },
  "nbformat": 4,
  "nbformat_minor": 0
}
